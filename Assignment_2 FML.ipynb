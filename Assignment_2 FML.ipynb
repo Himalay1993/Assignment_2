{
  "nbformat": 4,
  "nbformat_minor": 0,
  "metadata": {
    "colab": {
      "provenance": []
    },
    "kernelspec": {
      "name": "python3",
      "display_name": "Python 3"
    },
    "language_info": {
      "name": "python"
    }
  },
  "cells": [
    {
      "cell_type": "markdown",
      "source": [
        "Importing the file and required libraries."
      ],
      "metadata": {
        "id": "M7uJZB9nnj0h"
      }
    },
    {
      "cell_type": "code",
      "source": [
        "from google.colab import files\n",
        "uploaded = files.upload()\n",
        "\n",
        "import pandas as pd\n",
        "from sklearn.model_selection import train_test_split\n",
        "from sklearn.neighbors import KNeighborsClassifier\n",
        "from sklearn.metrics import confusion_matrix\n",
        "\n",
        "# Load the data\n",
        "data = pd.read_csv(\"UniversalBank.csv\")\n"
      ],
      "metadata": {
        "colab": {
          "base_uri": "https://localhost:8080/",
          "height": 73
        },
        "id": "uRg-ygPihfzj",
        "outputId": "b5f3eff2-c083-4cd5-eb54-eedbfbfa1ec8"
      },
      "execution_count": 16,
      "outputs": [
        {
          "output_type": "display_data",
          "data": {
            "text/plain": [
              "<IPython.core.display.HTML object>"
            ],
            "text/html": [
              "\n",
              "     <input type=\"file\" id=\"files-a33b66fa-4f3e-4724-ab8e-13fa7ed91dd5\" name=\"files[]\" multiple disabled\n",
              "        style=\"border:none\" />\n",
              "     <output id=\"result-a33b66fa-4f3e-4724-ab8e-13fa7ed91dd5\">\n",
              "      Upload widget is only available when the cell has been executed in the\n",
              "      current browser session. Please rerun this cell to enable.\n",
              "      </output>\n",
              "      <script>// Copyright 2017 Google LLC\n",
              "//\n",
              "// Licensed under the Apache License, Version 2.0 (the \"License\");\n",
              "// you may not use this file except in compliance with the License.\n",
              "// You may obtain a copy of the License at\n",
              "//\n",
              "//      http://www.apache.org/licenses/LICENSE-2.0\n",
              "//\n",
              "// Unless required by applicable law or agreed to in writing, software\n",
              "// distributed under the License is distributed on an \"AS IS\" BASIS,\n",
              "// WITHOUT WARRANTIES OR CONDITIONS OF ANY KIND, either express or implied.\n",
              "// See the License for the specific language governing permissions and\n",
              "// limitations under the License.\n",
              "\n",
              "/**\n",
              " * @fileoverview Helpers for google.colab Python module.\n",
              " */\n",
              "(function(scope) {\n",
              "function span(text, styleAttributes = {}) {\n",
              "  const element = document.createElement('span');\n",
              "  element.textContent = text;\n",
              "  for (const key of Object.keys(styleAttributes)) {\n",
              "    element.style[key] = styleAttributes[key];\n",
              "  }\n",
              "  return element;\n",
              "}\n",
              "\n",
              "// Max number of bytes which will be uploaded at a time.\n",
              "const MAX_PAYLOAD_SIZE = 100 * 1024;\n",
              "\n",
              "function _uploadFiles(inputId, outputId) {\n",
              "  const steps = uploadFilesStep(inputId, outputId);\n",
              "  const outputElement = document.getElementById(outputId);\n",
              "  // Cache steps on the outputElement to make it available for the next call\n",
              "  // to uploadFilesContinue from Python.\n",
              "  outputElement.steps = steps;\n",
              "\n",
              "  return _uploadFilesContinue(outputId);\n",
              "}\n",
              "\n",
              "// This is roughly an async generator (not supported in the browser yet),\n",
              "// where there are multiple asynchronous steps and the Python side is going\n",
              "// to poll for completion of each step.\n",
              "// This uses a Promise to block the python side on completion of each step,\n",
              "// then passes the result of the previous step as the input to the next step.\n",
              "function _uploadFilesContinue(outputId) {\n",
              "  const outputElement = document.getElementById(outputId);\n",
              "  const steps = outputElement.steps;\n",
              "\n",
              "  const next = steps.next(outputElement.lastPromiseValue);\n",
              "  return Promise.resolve(next.value.promise).then((value) => {\n",
              "    // Cache the last promise value to make it available to the next\n",
              "    // step of the generator.\n",
              "    outputElement.lastPromiseValue = value;\n",
              "    return next.value.response;\n",
              "  });\n",
              "}\n",
              "\n",
              "/**\n",
              " * Generator function which is called between each async step of the upload\n",
              " * process.\n",
              " * @param {string} inputId Element ID of the input file picker element.\n",
              " * @param {string} outputId Element ID of the output display.\n",
              " * @return {!Iterable<!Object>} Iterable of next steps.\n",
              " */\n",
              "function* uploadFilesStep(inputId, outputId) {\n",
              "  const inputElement = document.getElementById(inputId);\n",
              "  inputElement.disabled = false;\n",
              "\n",
              "  const outputElement = document.getElementById(outputId);\n",
              "  outputElement.innerHTML = '';\n",
              "\n",
              "  const pickedPromise = new Promise((resolve) => {\n",
              "    inputElement.addEventListener('change', (e) => {\n",
              "      resolve(e.target.files);\n",
              "    });\n",
              "  });\n",
              "\n",
              "  const cancel = document.createElement('button');\n",
              "  inputElement.parentElement.appendChild(cancel);\n",
              "  cancel.textContent = 'Cancel upload';\n",
              "  const cancelPromise = new Promise((resolve) => {\n",
              "    cancel.onclick = () => {\n",
              "      resolve(null);\n",
              "    };\n",
              "  });\n",
              "\n",
              "  // Wait for the user to pick the files.\n",
              "  const files = yield {\n",
              "    promise: Promise.race([pickedPromise, cancelPromise]),\n",
              "    response: {\n",
              "      action: 'starting',\n",
              "    }\n",
              "  };\n",
              "\n",
              "  cancel.remove();\n",
              "\n",
              "  // Disable the input element since further picks are not allowed.\n",
              "  inputElement.disabled = true;\n",
              "\n",
              "  if (!files) {\n",
              "    return {\n",
              "      response: {\n",
              "        action: 'complete',\n",
              "      }\n",
              "    };\n",
              "  }\n",
              "\n",
              "  for (const file of files) {\n",
              "    const li = document.createElement('li');\n",
              "    li.append(span(file.name, {fontWeight: 'bold'}));\n",
              "    li.append(span(\n",
              "        `(${file.type || 'n/a'}) - ${file.size} bytes, ` +\n",
              "        `last modified: ${\n",
              "            file.lastModifiedDate ? file.lastModifiedDate.toLocaleDateString() :\n",
              "                                    'n/a'} - `));\n",
              "    const percent = span('0% done');\n",
              "    li.appendChild(percent);\n",
              "\n",
              "    outputElement.appendChild(li);\n",
              "\n",
              "    const fileDataPromise = new Promise((resolve) => {\n",
              "      const reader = new FileReader();\n",
              "      reader.onload = (e) => {\n",
              "        resolve(e.target.result);\n",
              "      };\n",
              "      reader.readAsArrayBuffer(file);\n",
              "    });\n",
              "    // Wait for the data to be ready.\n",
              "    let fileData = yield {\n",
              "      promise: fileDataPromise,\n",
              "      response: {\n",
              "        action: 'continue',\n",
              "      }\n",
              "    };\n",
              "\n",
              "    // Use a chunked sending to avoid message size limits. See b/62115660.\n",
              "    let position = 0;\n",
              "    do {\n",
              "      const length = Math.min(fileData.byteLength - position, MAX_PAYLOAD_SIZE);\n",
              "      const chunk = new Uint8Array(fileData, position, length);\n",
              "      position += length;\n",
              "\n",
              "      const base64 = btoa(String.fromCharCode.apply(null, chunk));\n",
              "      yield {\n",
              "        response: {\n",
              "          action: 'append',\n",
              "          file: file.name,\n",
              "          data: base64,\n",
              "        },\n",
              "      };\n",
              "\n",
              "      let percentDone = fileData.byteLength === 0 ?\n",
              "          100 :\n",
              "          Math.round((position / fileData.byteLength) * 100);\n",
              "      percent.textContent = `${percentDone}% done`;\n",
              "\n",
              "    } while (position < fileData.byteLength);\n",
              "  }\n",
              "\n",
              "  // All done.\n",
              "  yield {\n",
              "    response: {\n",
              "      action: 'complete',\n",
              "    }\n",
              "  };\n",
              "}\n",
              "\n",
              "scope.google = scope.google || {};\n",
              "scope.google.colab = scope.google.colab || {};\n",
              "scope.google.colab._files = {\n",
              "  _uploadFiles,\n",
              "  _uploadFilesContinue,\n",
              "};\n",
              "})(self);\n",
              "</script> "
            ]
          },
          "metadata": {}
        },
        {
          "output_type": "stream",
          "name": "stdout",
          "text": [
            "Saving UniversalBank.csv to UniversalBank (1).csv\n"
          ]
        }
      ]
    },
    {
      "cell_type": "markdown",
      "source": [
        "# Converting categorical variables into dummy variables and removing three columns"
      ],
      "metadata": {
        "id": "myM1p3Ahkpph"
      }
    },
    {
      "cell_type": "code",
      "source": [
        "\n",
        "data = pd.get_dummies(data, columns=[\"Education\"], drop_first=True)\n",
        "\n",
        "\n",
        "X = data.drop(columns=[\"ID\", \"ZIP Code\", \"Personal Loan\"])\n",
        "y = data[\"Personal Loan\"]\n",
        "\n"
      ],
      "metadata": {
        "id": "EW45couGiWtD"
      },
      "execution_count": 17,
      "outputs": []
    },
    {
      "cell_type": "markdown",
      "source": [
        "# Q1: Splitting the data into training (60%) and validation (40%) sets\n"
      ],
      "metadata": {
        "id": "_iORtfp8lmOM"
      }
    },
    {
      "cell_type": "code",
      "source": [
        "X_train_val, X_test, y_train_val, y_test = train_test_split(X, y, test_size=0.2, random_state=123)\n",
        "X_train, X_val, y_train, y_val = train_test_split(X_train_val, y_train_val, test_size=0.25, random_state=123)  # 0.25 * 0.8 = 0.2 (20%)\n",
        "\n",
        "# Consider the provided customer\n",
        "customer_data = pd.DataFrame({\n",
        "    \"Age\": [40], \"Experience\": [10], \"Income\": [84], \"Family\": [2], \"CCAvg\": [2],\n",
        "    \"Mortgage\": [0], \"Securities Account\": [0], \"CD Account\": [0], \"Online\": [1],\n",
        "    \"CreditCard\": [1], \"Education_2\": [1], \"Education_3\": [0]\n",
        "})\n",
        "\n",
        "X_train_val,X_test,y_test,y_train_val,y_test"
      ],
      "metadata": {
        "colab": {
          "base_uri": "https://localhost:8080/"
        },
        "id": "x0PV9U4Ilsih",
        "outputId": "3ce8676d-caef-47bb-ee9f-bef85d9e82a4"
      },
      "execution_count": 18,
      "outputs": [
        {
          "output_type": "execute_result",
          "data": {
            "text/plain": [
              "(      Age  Experience  Income  Family  CCAvg  Mortgage  Securities Account  \\\n",
              " 1863   48          22      43       1   1.20       112                   0   \n",
              " 420    47          22      58       4   3.60         0                   0   \n",
              " 3260   55          30      84       2   0.00         0                   0   \n",
              " 742    32           6      81       1   2.50         0                   0   \n",
              " 4809   43          19      32       3   0.60         0                   0   \n",
              " ...   ...         ...     ...     ...    ...       ...                 ...   \n",
              " 1593   63          38      83       3   1.80         0                   0   \n",
              " 4060   31           6     174       2   6.70         0                   0   \n",
              " 1346   44          20      50       3   2.33       200                   0   \n",
              " 3454   47          21     132       1   0.30         0                   0   \n",
              " 3582   49          25      65       1   0.00         0                   0   \n",
              " \n",
              "       CD Account  Online  CreditCard  Education_2  Education_3  \n",
              " 1863           0       1           0            1            0  \n",
              " 420            0       1           1            0            1  \n",
              " 3260           0       0           0            0            1  \n",
              " 742            0       1           0            0            0  \n",
              " 4809           0       0           0            1            0  \n",
              " ...          ...     ...         ...          ...          ...  \n",
              " 1593           0       1           0            1            0  \n",
              " 4060           0       1           1            0            0  \n",
              " 1346           0       0           0            0            0  \n",
              " 3454           0       1           0            0            0  \n",
              " 3582           0       1           0            0            0  \n",
              " \n",
              " [4000 rows x 12 columns],\n",
              "       Age  Experience  Income  Family  CCAvg  Mortgage  Securities Account  \\\n",
              " 2648   26           0     155       2    7.2         0                   0   \n",
              " 2456   54          30      39       2    0.8         0                   0   \n",
              " 4557   33           9      30       2    1.0         0                   0   \n",
              " 4884   60          34      50       3    2.2         0                   0   \n",
              " 92     43          19      34       3    0.6         0                   0   \n",
              " ...   ...         ...     ...     ...    ...       ...                 ...   \n",
              " 4796   26           0      42       4    1.3         0                   1   \n",
              " 4337   26           2     182       2    3.2         0                   0   \n",
              " 3100   52          27      81       4    3.8         0                   0   \n",
              " 1304   51          26     145       1    8.1       397                   0   \n",
              " 4240   39          14     161       1    4.1       509                   1   \n",
              " \n",
              "       CD Account  Online  CreditCard  Education_2  Education_3  \n",
              " 2648           0       0           0            0            0  \n",
              " 2456           0       0           1            0            0  \n",
              " 4557           0       1           0            1            0  \n",
              " 4884           0       1           1            0            1  \n",
              " 92             0       0           0            1            0  \n",
              " ...          ...     ...         ...          ...          ...  \n",
              " 4796           0       0           0            0            1  \n",
              " 4337           0       0           0            1            0  \n",
              " 3100           0       0           1            1            0  \n",
              " 1304           0       0           1            0            0  \n",
              " 4240           0       0           0            0            0  \n",
              " \n",
              " [1000 rows x 12 columns],\n",
              " 2648    0\n",
              " 2456    0\n",
              " 4557    0\n",
              " 4884    0\n",
              " 92      0\n",
              "        ..\n",
              " 4796    0\n",
              " 4337    1\n",
              " 3100    0\n",
              " 1304    0\n",
              " 4240    0\n",
              " Name: Personal Loan, Length: 1000, dtype: int64,\n",
              " 1863    0\n",
              " 420     0\n",
              " 3260    0\n",
              " 742     0\n",
              " 4809    0\n",
              "        ..\n",
              " 1593    0\n",
              " 4060    0\n",
              " 1346    0\n",
              " 3454    0\n",
              " 3582    0\n",
              " Name: Personal Loan, Length: 4000, dtype: int64,\n",
              " 2648    0\n",
              " 2456    0\n",
              " 4557    0\n",
              " 4884    0\n",
              " 92      0\n",
              "        ..\n",
              " 4796    0\n",
              " 4337    1\n",
              " 3100    0\n",
              " 1304    0\n",
              " 4240    0\n",
              " Name: Personal Loan, Length: 1000, dtype: int64)"
            ]
          },
          "metadata": {},
          "execution_count": 18
        }
      ]
    },
    {
      "cell_type": "markdown",
      "source": [
        "# Q2: Develop KNN Model\n"
      ],
      "metadata": {
        "id": "R9j1-IHjl2uy"
      }
    },
    {
      "cell_type": "code",
      "source": [
        "knn_model = KNeighborsClassifier(n_neighbors=1)\n",
        "knn_model.fit(X_train_val, y_train_val)\n",
        "customer_pred = knn_model.predict(customer_data)\n",
        "print(\"Prediction for the provided customer:\", customer_pred)\n",
        "\n"
      ],
      "metadata": {
        "colab": {
          "base_uri": "https://localhost:8080/"
        },
        "id": "N5f0I4lbl5vP",
        "outputId": "604cc3ad-9186-4693-ae17-a3a307715d0f"
      },
      "execution_count": 19,
      "outputs": [
        {
          "output_type": "stream",
          "name": "stdout",
          "text": [
            "Prediction for the provided customer: [0]\n"
          ]
        }
      ]
    },
    {
      "cell_type": "markdown",
      "source": [
        "#  Q3: Choose k Value\n"
      ],
      "metadata": {
        "id": "lueivq65l-A2"
      }
    },
    {
      "cell_type": "code",
      "source": [
        "best_accuracy = 0\n",
        "best_k = None\n",
        "for k in range(1, 31):\n",
        "    knn_model = KNeighborsClassifier(n_neighbors=k)\n",
        "    knn_model.fit(X_train, y_train)\n",
        "    accuracy = knn_model.score(X_val, y_val)\n",
        "    if accuracy > best_accuracy:\n",
        "        best_accuracy = accuracy\n",
        "        best_k = k\n",
        "print(\"Best k value:\", best_k)\n",
        "\n"
      ],
      "metadata": {
        "colab": {
          "base_uri": "https://localhost:8080/"
        },
        "id": "eDpPFA4xmEZn",
        "outputId": "6037d66c-801f-4977-d335-735825273570"
      },
      "execution_count": 20,
      "outputs": [
        {
          "output_type": "stream",
          "name": "stdout",
          "text": [
            "Best k value: 2\n"
          ]
        }
      ]
    },
    {
      "cell_type": "markdown",
      "source": [
        "# Task 4: Finding the best k\n"
      ],
      "metadata": {
        "id": "nU5TF-cfmJAt"
      }
    },
    {
      "cell_type": "code",
      "source": [
        "best_knn_model = KNeighborsClassifier(n_neighbors=best_k)\n",
        "best_knn_model.fit(X_train_val, y_train_val)\n",
        "customer_pred_best_k = best_knn_model.predict(customer_data)\n",
        "print(\"Prediction for the provided customer using the best k:\", customer_pred_best_k)\n",
        "\n"
      ],
      "metadata": {
        "colab": {
          "base_uri": "https://localhost:8080/"
        },
        "id": "PT1H4MiTmNUX",
        "outputId": "6e4aaa68-741d-4ada-d727-5e8fe099a39f"
      },
      "execution_count": 21,
      "outputs": [
        {
          "output_type": "stream",
          "name": "stdout",
          "text": [
            "Prediction for the provided customer using the best k: [0]\n"
          ]
        }
      ]
    },
    {
      "cell_type": "markdown",
      "source": [
        "# Q5: Evaluation on training, validation, and test data\n"
      ],
      "metadata": {
        "id": "8gRR91cFmQ5Y"
      }
    },
    {
      "cell_type": "code",
      "source": [
        "train_pred = best_knn_model.predict(X_train)\n",
        "conf_matrix_train = confusion_matrix(y_train, train_pred)\n",
        "val_pred = best_knn_model.predict(X_val)\n",
        "conf_matrix_val = confusion_matrix(y_val, val_pred)\n",
        "test_pred = best_knn_model.predict(X_test)\n",
        "conf_matrix_test = confusion_matrix(y_test, test_pred)\n"
      ],
      "metadata": {
        "id": "imZoUO7zmWFS"
      },
      "execution_count": 23,
      "outputs": []
    },
    {
      "cell_type": "code",
      "source": [
        "print(\"Confusion matrix for training data with best k:\")\n",
        "print(conf_matrix_train)\n",
        "print(\"Confusion matrix for validation data with best k:\")\n",
        "print(conf_matrix_val)\n",
        "print(\"Confusion matrix for test data with best k:\")\n",
        "print(conf_matrix_test)"
      ],
      "metadata": {
        "colab": {
          "base_uri": "https://localhost:8080/"
        },
        "id": "pH2Rt34hmiUY",
        "outputId": "540ebf31-0cad-416c-e38d-28a399b29b58"
      },
      "execution_count": 24,
      "outputs": [
        {
          "output_type": "stream",
          "name": "stdout",
          "text": [
            "Confusion matrix for training data with best k:\n",
            "[[2692    0]\n",
            " [ 167  141]]\n",
            "Confusion matrix for validation data with best k:\n",
            "[[930   0]\n",
            " [ 43  27]]\n",
            "Confusion matrix for test data with best k:\n",
            "[[880  18]\n",
            " [ 84  18]]\n"
          ]
        }
      ]
    }
  ]
}